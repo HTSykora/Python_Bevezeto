{
 "cells": [
  {
   "cell_type": "markdown",
   "metadata": {},
   "source": [
    "# Runge Kutta módszerek (Explicit)\n",
    "Készítette: Sykora Henrik - BME-GPK Műszaki Mechanikai Tanszék (sykora@mm.bme.hu)\n",
    "\n",
    "Forrás: https://en.wikipedia.org/wiki/Runge%E2%80%93Kutta_methods\n",
    "\n",
    "### Kezdetiérték feladat (KDE):\n",
    "$\\dot{y}(t) = f(y,t)$  \n",
    "\n",
    "### Runge Kutta módszerek:  \n",
    "Közelítsük a megoldást diszkrét időpontokban ($t_n = nh$):  \n",
    "$y_n \\approx y(t_n)$  \n",
    "\n",
    "$\\begin{align}\n",
    "y_{n+1} = y_{n} + h \\sum_{i=1}^s b_i k_i,\n",
    "\\end{align}$  \n",
    "ahol  \n",
    "$\\begin{align}\n",
    "k_1 &= \\left(t_n,y_n\\right), \\\\\n",
    "k_2 &= \\left(t_n+c_2 h,y_n+\\left(a_{21}k_1\\right) h\\right), \\\\\n",
    "k_3 &= \\left(t_n+c_3 h,y_n+\\left(a_{31}k_1+a_{32}k_2\\right)h\\right), \\\\\n",
    "&\\;\\vdots \\\\\n",
    "k_s &= \\left(t_n+c_s h,y_n+\\left(a_{s1}k_1+\\ldots+a_{s,s-1}k_{s-1}\\right)h\\right). \n",
    "\\end{align}$  \n",
    "\n",
    "Az $a_i$, $b_i$ és $c_i$ paramétereket az úgynevezett *Butcher tábla* (*Butcher tableau*) tartalmazza:\n",
    "\n",
    "$\\begin{equation}\n",
    "\\renewcommand\\arraystretch{1.2}\n",
    "\\begin{array}\n",
    "{c|cccc}\n",
    "0\\\\\n",
    "c_2 & a_{2,1}\\\\\n",
    "c_3 & a_{3,1} & a_{3,2} \\\\\n",
    "\\vdots & \\vdots& & \\ddots \\\\\n",
    "c_s & a_{s,1} & a_{s,2} & \\dots & a_{s,1}\\\\\n",
    "\\hline\n",
    "& b_1 & b_2 & \\dots & b_{s-1} & b_s\n",
    "\\end{array}\n",
    "\\end{equation}$\n",
    "\n",
    "#### Egyszerű esetek:\n",
    "Euler módszer:  \n",
    "$\\begin{equation}\n",
    "\\renewcommand\\arraystretch{1.2}\n",
    "\\begin{array}\n",
    "{c|cccc}\n",
    "0\\\\\n",
    "\\hline\n",
    "& 1\n",
    "\\end{array}\n",
    "\\end{equation}$  \n",
    "$\\begin{align}\n",
    "y_{n+1} &= y_{n} + h  \\cdot 1 \\cdot k_1,\\\\\n",
    "k_1 &= f(t_n, y_n).\n",
    "\\end{align}$\n",
    "\n",
    "Negyedrendű Runge-Kutta módszer:  \n",
    "$\\begin{equation}\n",
    "\\renewcommand\\arraystretch{1.2}\n",
    "\\begin{array}\n",
    "{c|cccc}\n",
    "0\\\\\n",
    "\\frac{1}{2} & \\frac{1}{2}\\\\\n",
    "\\frac{1}{2} &0 &\\frac{1}{2} \\\\\n",
    "1& 0& 0& 1\\\\\n",
    "\\hline\n",
    "& \\frac{1}{6} &\\frac{1}{3} &\\frac{1}{3} &\\frac{1}{6} \n",
    "\\end{array}\n",
    "\\end{equation}$  \n",
    "$\\begin{align}\n",
    "y_{n+1} &= y_{n} + \\frac{h}{6} \\left(k_1+2k_2 + 2k_3 + k_4\\right),\\\\\n",
    "k_1 &= \\left(t_n,y_n \\right), \\\\\n",
    "k_2 &= \\left(t_n+\\frac{1}{2} h, y_n+\\frac{1}{2}k_1 h\\right), \\\\\n",
    "k_3 &= \\left(t_n+\\frac{1}{2} h, y_n+\\frac{1}{2}k_2 h\\right), \\\\\n",
    "k_4 &= \\left(t_n+ h, y_n+k_3 h\\right). \n",
    "\\end{align}$  \n",
    "\n",
    "#### Megjegyzés: Adaptív Runge-Kutta módszerek\n",
    "$\\begin{equation}\n",
    "\\renewcommand\\arraystretch{1.2}\n",
    "\\begin{array}\n",
    "{c|cccc}\n",
    "0\\\\\n",
    "c_2 & a_{2,1}\\\\\n",
    "c_3 & a_{3,1} & a_{3,2} \\\\\n",
    "\\vdots & \\vdots& & \\ddots \\\\\n",
    "c_s & a_{s,1} & a_{s,2} & \\dots & a_{s,1}\\\\\n",
    "\\hline\n",
    "& b_1 & b_2 & \\dots & b_{s-1} & b_s\\\\\n",
    "& b_1^\\ast & b_2^\\ast & \\dots & b_{s-1}^\\ast & b_s^\\ast\n",
    "\\end{array}\n",
    "\\end{equation}$  \n",
    "Hibafüggvény ami alapján eldöntjük, hogy kell-e felezni/duplázni $h$ értékét:  \n",
    "$e_{n+1} = y_n+1-y^\\ast_n+1 = h \\sum_{i=s}^s\\left(b_i-b_i^\\ast\\right)k_i$"
   ]
  },
  {
   "cell_type": "markdown",
   "metadata": {},
   "source": [
    "# Implementáció"
   ]
  },
  {
   "cell_type": "code",
   "execution_count": 1,
   "metadata": {
    "ExecuteTime": {
     "end_time": "2020-02-21T14:06:21.062475Z",
     "start_time": "2020-02-21T14:06:20.749695Z"
    }
   },
   "outputs": [],
   "source": [
    "# Számításokhoz és az eredmények megjelenítéséhez szükséges csomagok behívása\n",
    "import numpy as np\n",
    "import matplotlib.pyplot as mpl\n",
    "# Segédfüggvény\n",
    "def getzero(ll):\n",
    "  return np.zeros(len(ll))\n",
    "\n",
    "# Runge Kutta lépés osztály\n",
    "class RKstep:\n",
    "  def __init__(self,a,b,c,h):\n",
    "    self.a = a\n",
    "    self.b = b\n",
    "    self.c = c\n",
    "    self.h = h\n",
    "    self.nk = len(c)\n",
    "\n",
    "  def dy(self,f,t,y): # f(t_n,y_n) -> k\n",
    "      ks=[getzero(y) for i in range(self.nk)]\n",
    "      for (i,ci) in enumerate(self.c):\n",
    "        ks[i]= f(t+ci*self.h,y + self.h*sum(self.a[i][j]*ks[j] for j in range(i)))\n",
    "      return self.h*sum(k*self.b[i] for (i,k) in enumerate(ks))\n",
    "\n",
    "# RK4 módszer\n",
    "def RK4(h):\n",
    "  a=[[],[1/2],[0,1/2],[0,0,1/2]]\n",
    "  b=[1/6,1/3,1/3,1/6]\n",
    "  c=[0,1/2,1/2,1]\n",
    "  return RKstep(a,b,c,h)\n",
    "\n",
    "# Euler módszer\n",
    "def Euler(h):\n",
    "  a=[[]]\n",
    "  b=[1.]\n",
    "  c=[0.]\n",
    "  return RKstep(a,b,c,h)\n",
    "\n",
    "\n",
    "# Közönséges differenciálegyenlet kezdetiérték problémájának megadása/megoldásfüggvénye osztályként\n",
    "class ODEProblem:\n",
    "  def __init__(self,f,y0,tspan):\n",
    "    self.f = f\n",
    "    self.y0 = y0 if type(y0)==np.ndarray else np.array(y0)\n",
    "    self.tspan = tspan\n",
    "    \n",
    "  def solve(self,method):\n",
    "    t0,T = self.tspan\n",
    "    ts = np.arange(t0,T+100*np.finfo(float).eps,method.h)\n",
    "    ys=[self.y0 for (i,t) in enumerate(ts)]\n",
    "    for i in range(len(ys)-1):\n",
    "      ys[i+1] = ys[i] + method.dy(self.f,ts[i],ys[i])\n",
    "    return (ts,ys)"
   ]
  },
  {
   "cell_type": "markdown",
   "metadata": {},
   "source": [
    "# Alkalmazás\n",
    "\n",
    "Pl.:  \n",
    "$\\dot{y}(t) = y(t), \\quad y(0) = y_0, \\quad t \\in \\left[0,T\\right]$"
   ]
  },
  {
   "cell_type": "code",
   "execution_count": 2,
   "metadata": {
    "ExecuteTime": {
     "end_time": "2020-02-21T14:06:21.429621Z",
     "start_time": "2020-02-21T14:06:21.064075Z"
    }
   },
   "outputs": [
    {
     "data": {
      "image/png": "[encoded data removed]",
      "text/plain": [
       "<Figure size 432x288 with 1 Axes>"
      ]
     },
     "metadata": {
      "needs_background": "light"
     },
     "output_type": "display_data"
    }
   ],
   "source": [
    "# Függvény és ODEProblem megadása\n",
    "foo = lambda t,y: y#*np.sin(4*t)\n",
    "y0=1.\n",
    "T=3.\n",
    "prob=ODEProblem(foo,[y0],(0.,T));\n",
    "\n",
    "# Lépésköz + numerikus megoldás\n",
    "h=0.1\n",
    "# Runge Kutta megoldás\n",
    "ts,ys=prob.solve(RK4(h))\n",
    "#Euler módszer megoldás\n",
    "tsE,ysE=prob.solve(Euler(h))\n",
    "\n",
    "# Ábrázolás\n",
    "mpl.plot(ts,np.exp(ts))\n",
    "mpl.scatter(ts,[y[0] for y in ys],color='r',s=10)\n",
    "mpl.scatter(tsE,[y[0] for y in ysE],color='g',s=10)\n",
    "mpl.legend(['Pontos','RK4','Euler'])\n",
    "mpl.show()"
   ]
  }
 ],
 "metadata": {
  "kernelspec": {
   "display_name": "Python 3",
   "language": "python",
   "name": "python3"
  },
  "language_info": {
   "codemirror_mode": {
    "name": "ipython",
    "version": 3
   },
   "file_extension": ".py",
   "mimetype": "text/x-python",
   "name": "python",
   "nbconvert_exporter": "python",
   "pygments_lexer": "ipython3",
   "version": "3.8.2"
  },
  "toc": {
   "base_numbering": 1,
   "nav_menu": {},
   "number_sections": true,
   "sideBar": true,
   "skip_h1_title": false,
   "title_cell": "Table of Contents",
   "title_sidebar": "Contents",
   "toc_cell": false,
   "toc_position": {},
   "toc_section_display": true,
   "toc_window_display": false
  }
 },
 "nbformat": 4,
 "nbformat_minor": 2
}
